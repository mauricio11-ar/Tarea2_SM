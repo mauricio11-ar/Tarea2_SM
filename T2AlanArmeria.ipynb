{
 "cells": [
  {
   "cell_type": "markdown",
   "metadata": {},
   "source": [
    "# Tarea 2: Git, GitHub y GitKraken\n",
    "\n",
    "![](https://www.iteso.mx/documents/27014/202031/Logo-ITESO-MinimoV.png)\n",
    "\n",
    "**Nombre _Alan Mauiricio Armeria Alarcón_**\n",
    "\n",
    "*Ingeniería civil*\n",
    "\n",
    ">Asignatura: Simulación Matematica \n",
    "\n",
    ">Otoño 2019\n",
    "\n",
    ">Profesor: Cristian Camilo Zapata Zuluaga "
   ]
  },
  {
   "cell_type": "markdown",
   "metadata": {},
   "source": [
    "### Resumen 1\n",
    "![](http://anewdomain.net/wp-content/uploads/2019/01/Screen-Shot-2019-01-03-at-6.37.56-PM.png)\n",
    "\n",
    "Why Python Training Is Important?\n",
    "\n",
    "There are many reason but principally is the Getting started with Python is simpler than it often seems.\n",
    "Python’s been a coding mainstay for nearly three decades now. It’s solid. Respectable\n",
    "\n",
    "Uses of python\n",
    "Machine learning and Python are a natural pairing, too.  \n",
    "\n",
    "Machine learning is useful for implementing algorithms that can detect patterns, which is key in facial recognition software, voice recognition and recommendation systems like those Amazon and YouTube rely on. It’s an unbelievably hot area.\n",
    "\n",
    ">I think the machine learning is the key to the future, and this tool can be applied, to any situation,in my area, how a civil engineer has many opportunities, for example, use this system to find solutions and make decisions.\n",
    "\n",
    "for more information visit: <http://anewdomain.net/spotlight-should-you-invest-in-python-training/"
   ]
  },
  {
   "cell_type": "markdown",
   "metadata": {},
   "source": [
    "### Resumen 2\n",
    "![](https://zdnet2.cbsistatic.com/hub/i/2019/01/08/87e0bef8-de55-4833-85d8-f5055d04020b/68b0878583b31a9717e8de40c7542ffc/tiobepythonjan19.jpg)\n",
    "\n",
    "\n",
    "## The top 20 languages in descending order for January 2019 were Java, C, Python, C++, Visual Basic .NET, JavaScript.\n",
    "## In this image we can see the rating, and python is in third. \n",
    "\n",
    "Python gained 3.62 percentage points year over year in Tiobe's January 2019 index, beating rises by Visual Basic .NET and Java\n",
    "\n",
    " \n",
    "\n",
    "The main reasons for being are:\n",
    "* Ease of learning\n",
    "* Machine learning and data science in the company\n",
    "* A large developer community\n",
    "\n",
    "It's also the most popular language with hackers, thanks to its easy-to-grasp syntax, broad availability of online tutorials, and an abundance of harmless third-party software libraries that can be repurposed for malicious use.   \n",
    "\n",
    "for more information visit:\n",
    "<https://www.zdnet.com/article/programming-language-of-the-year-python-is-standout-in-latest-rankings/\n"
   ]
  },
  {
   "cell_type": "code",
   "execution_count": null,
   "metadata": {},
   "outputs": [],
   "source": []
  }
 ],
 "metadata": {
  "kernelspec": {
   "display_name": "Python 3",
   "language": "python",
   "name": "python3"
  },
  "language_info": {
   "codemirror_mode": {
    "name": "ipython",
    "version": 3
   },
   "file_extension": ".py",
   "mimetype": "text/x-python",
   "name": "python",
   "nbconvert_exporter": "python",
   "pygments_lexer": "ipython3",
   "version": "3.6.5"
  }
 },
 "nbformat": 4,
 "nbformat_minor": 2
}
